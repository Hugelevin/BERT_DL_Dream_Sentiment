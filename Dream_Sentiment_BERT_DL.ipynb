{
  "nbformat": 4,
  "nbformat_minor": 0,
  "metadata": {
    "colab": {
      "provenance": []
    },
    "kernelspec": {
      "name": "python3",
      "display_name": "Python 3"
    },
    "language_info": {
      "name": "python"
    }
  },
  "cells": [
    {
      "cell_type": "code",
      "source": [
        "from google.colab import drive\n",
        "drive.mount('/content/drive')"
      ],
      "metadata": {
        "id": "RXEN4yE0pyrw",
        "colab": {
          "base_uri": "https://localhost:8080/"
        },
        "outputId": "b942c6b3-1b50-4ca4-d568-a3e65c9fb3d1"
      },
      "execution_count": null,
      "outputs": [
        {
          "output_type": "stream",
          "name": "stdout",
          "text": [
            "Mounted at /content/drive\n"
          ]
        }
      ]
    },
    {
      "cell_type": "markdown",
      "metadata": {
        "id": "1f9f4bb5-bce6-4859-988f-0fd9fe003661"
      },
      "source": [
        "## Load Libarires"
      ]
    },
    {
      "cell_type": "code",
      "execution_count": null,
      "metadata": {
        "execution": {
          "iopub.execute_input": "2023-03-07T19:24:07.151673Z",
          "iopub.status.busy": "2023-03-07T19:24:07.151155Z",
          "iopub.status.idle": "2023-03-07T19:24:19.630590Z",
          "shell.execute_reply": "2023-03-07T19:24:19.629886Z",
          "shell.execute_reply.started": "2023-03-07T19:24:07.151647Z"
        },
        "tags": [],
        "id": "3b199272-6919-46df-9740-23718861873f"
      },
      "outputs": [],
      "source": [
        "!pip install catboost"
      ]
    },
    {
      "cell_type": "code",
      "execution_count": null,
      "metadata": {
        "execution": {
          "iopub.execute_input": "2023-03-07T19:36:57.937227Z",
          "iopub.status.busy": "2023-03-07T19:36:57.936845Z",
          "iopub.status.idle": "2023-03-07T19:36:57.941132Z",
          "shell.execute_reply": "2023-03-07T19:36:57.940496Z",
          "shell.execute_reply.started": "2023-03-07T19:36:57.937203Z"
        },
        "tags": [],
        "id": "0fafcac0-f2ec-4bde-b01c-55873a639aef",
        "colab": {
          "base_uri": "https://localhost:8080/"
        },
        "outputId": "03a14131-dada-4ad4-9044-606d8b9f14d3"
      },
      "outputs": [
        {
          "output_type": "stream",
          "name": "stderr",
          "text": [
            "[nltk_data] Downloading package punkt to /root/nltk_data...\n",
            "[nltk_data]   Package punkt is already up-to-date!\n",
            "[nltk_data] Downloading package stopwords to /root/nltk_data...\n",
            "[nltk_data]   Package stopwords is already up-to-date!\n",
            "[nltk_data] Downloading package wordnet to /root/nltk_data...\n",
            "[nltk_data]   Package wordnet is already up-to-date!\n",
            "[nltk_data] Downloading package omw-1.4 to /root/nltk_data...\n",
            "[nltk_data]   Package omw-1.4 is already up-to-date!\n"
          ]
        }
      ],
      "source": [
        "import numpy as np\n",
        "import pandas as pd\n",
        "import matplotlib.pyplot as plt\n",
        "import seaborn as sns\n",
        "## Evaluation Matrics\n",
        "from sklearn.metrics import confusion_matrix\n",
        "from sklearn.metrics import classification_report\n",
        "from sklearn.ensemble import RandomForestClassifier\n",
        "from sklearn.neural_network import MLPClassifier\n",
        "from catboost import CatBoostClassifier\n",
        "from xgboost import XGBClassifier\n",
        "from sklearn.feature_extraction.text import CountVectorizer\n",
        "from sklearn.naive_bayes import MultinomialNB\n",
        "\n",
        "## NLTK\n",
        "import nltk\n",
        "import pandas as pd\n",
        "from nltk.corpus import stopwords\n",
        "from nltk.tokenize import word_tokenize\n",
        "from nltk.stem import WordNetLemmatizer\n",
        "import string\n",
        "\n",
        "nltk.download('punkt') # download the necessary NLTK packages\n",
        "nltk.download('stopwords')\n",
        "nltk.download('wordnet')\n",
        "nltk.download('omw-1.4')\n",
        "\n",
        "stop_words = set(stopwords.words(\"english\"))\n",
        "lemmatizer = WordNetLemmatizer()"
      ]
    },
    {
      "cell_type": "markdown",
      "metadata": {
        "id": "f1b3e3ae-47ba-45f7-935e-8f2c92406200"
      },
      "source": [
        "## Load Data"
      ]
    },
    {
      "cell_type": "code",
      "execution_count": null,
      "metadata": {
        "execution": {
          "iopub.execute_input": "2023-02-27T23:16:46.153708Z",
          "iopub.status.busy": "2023-02-27T23:16:46.153344Z",
          "iopub.status.idle": "2023-02-27T23:16:46.641671Z",
          "shell.execute_reply": "2023-02-27T23:16:46.641137Z",
          "shell.execute_reply.started": "2023-02-27T23:16:46.153684Z"
        },
        "tags": [],
        "id": "31af2197-f2c8-43a1-9ef0-eb3e59eec030"
      },
      "outputs": [],
      "source": [
        "df = pd.read_csv('/content/drive/MyDrive/Dream/dream_reports - TextBlob - 5 Labels.csv',encoding = 'latin-1')"
      ]
    },
    {
      "cell_type": "code",
      "execution_count": null,
      "metadata": {
        "execution": {
          "iopub.execute_input": "2023-02-27T23:18:03.659416Z",
          "iopub.status.busy": "2023-02-27T23:18:03.659053Z",
          "iopub.status.idle": "2023-02-27T23:18:03.669296Z",
          "shell.execute_reply": "2023-02-27T23:18:03.668824Z",
          "shell.execute_reply.started": "2023-02-27T23:18:03.659390Z"
        },
        "tags": [],
        "colab": {
          "base_uri": "https://localhost:8080/",
          "height": 143
        },
        "id": "0df346e8-2577-470f-888f-9c258b05fb30",
        "outputId": "452b6dbd-e564-4889-a751-62cfc908d333"
      },
      "outputs": [
        {
          "output_type": "execute_result",
          "data": {
            "text/plain": [
              "                                        dream_report  \\\n",
              "0  The one at the Meads's house, where it's bigge...   \n",
              "1  I'm at a family reunion in a large fine house ...   \n",
              "2  I watch a plane fly past and shortly realize i...   \n",
              "\n",
              "                                           sentences  \\\n",
              "0  [\"The one at the Meads's house, where it's big...   \n",
              "1  [\"I'm at a family reunion in a large fine hous...   \n",
              "2  ['I watch a plane fly past and shortly realize...   \n",
              "\n",
              "                                     sentiment_score  \\\n",
              "0  [0.025992063492063486, -0.07668269230769231, 0...   \n",
              "1  [0.20773809523809522, -0.021875000000000006, -...   \n",
              "2  [0.1375, 0.027777777777777776, 0.0, 0.0, -0.2,...   \n",
              "\n",
              "                                     sentiment_label  \n",
              "0  ['very negative', 'negative', 'neutral', 'neut...  \n",
              "1  ['very negative', 'negative', 'very negative',...  \n",
              "2  ['very negative', 'very negative', 'neutral', ...  "
            ],
            "text/html": [
              "\n",
              "  <div id=\"df-8652a6bd-f23b-429c-94fa-2fe77da34571\">\n",
              "    <div class=\"colab-df-container\">\n",
              "      <div>\n",
              "<style scoped>\n",
              "    .dataframe tbody tr th:only-of-type {\n",
              "        vertical-align: middle;\n",
              "    }\n",
              "\n",
              "    .dataframe tbody tr th {\n",
              "        vertical-align: top;\n",
              "    }\n",
              "\n",
              "    .dataframe thead th {\n",
              "        text-align: right;\n",
              "    }\n",
              "</style>\n",
              "<table border=\"1\" class=\"dataframe\">\n",
              "  <thead>\n",
              "    <tr style=\"text-align: right;\">\n",
              "      <th></th>\n",
              "      <th>dream_report</th>\n",
              "      <th>sentences</th>\n",
              "      <th>sentiment_score</th>\n",
              "      <th>sentiment_label</th>\n",
              "    </tr>\n",
              "  </thead>\n",
              "  <tbody>\n",
              "    <tr>\n",
              "      <th>0</th>\n",
              "      <td>The one at the Meads's house, where it's bigge...</td>\n",
              "      <td>[\"The one at the Meads's house, where it's big...</td>\n",
              "      <td>[0.025992063492063486, -0.07668269230769231, 0...</td>\n",
              "      <td>['very negative', 'negative', 'neutral', 'neut...</td>\n",
              "    </tr>\n",
              "    <tr>\n",
              "      <th>1</th>\n",
              "      <td>I'm at a family reunion in a large fine house ...</td>\n",
              "      <td>[\"I'm at a family reunion in a large fine hous...</td>\n",
              "      <td>[0.20773809523809522, -0.021875000000000006, -...</td>\n",
              "      <td>['very negative', 'negative', 'very negative',...</td>\n",
              "    </tr>\n",
              "    <tr>\n",
              "      <th>2</th>\n",
              "      <td>I watch a plane fly past and shortly realize i...</td>\n",
              "      <td>['I watch a plane fly past and shortly realize...</td>\n",
              "      <td>[0.1375, 0.027777777777777776, 0.0, 0.0, -0.2,...</td>\n",
              "      <td>['very negative', 'very negative', 'neutral', ...</td>\n",
              "    </tr>\n",
              "  </tbody>\n",
              "</table>\n",
              "</div>\n",
              "      <button class=\"colab-df-convert\" onclick=\"convertToInteractive('df-8652a6bd-f23b-429c-94fa-2fe77da34571')\"\n",
              "              title=\"Convert this dataframe to an interactive table.\"\n",
              "              style=\"display:none;\">\n",
              "        \n",
              "  <svg xmlns=\"http://www.w3.org/2000/svg\" height=\"24px\"viewBox=\"0 0 24 24\"\n",
              "       width=\"24px\">\n",
              "    <path d=\"M0 0h24v24H0V0z\" fill=\"none\"/>\n",
              "    <path d=\"M18.56 5.44l.94 2.06.94-2.06 2.06-.94-2.06-.94-.94-2.06-.94 2.06-2.06.94zm-11 1L8.5 8.5l.94-2.06 2.06-.94-2.06-.94L8.5 2.5l-.94 2.06-2.06.94zm10 10l.94 2.06.94-2.06 2.06-.94-2.06-.94-.94-2.06-.94 2.06-2.06.94z\"/><path d=\"M17.41 7.96l-1.37-1.37c-.4-.4-.92-.59-1.43-.59-.52 0-1.04.2-1.43.59L10.3 9.45l-7.72 7.72c-.78.78-.78 2.05 0 2.83L4 21.41c.39.39.9.59 1.41.59.51 0 1.02-.2 1.41-.59l7.78-7.78 2.81-2.81c.8-.78.8-2.07 0-2.86zM5.41 20L4 18.59l7.72-7.72 1.47 1.35L5.41 20z\"/>\n",
              "  </svg>\n",
              "      </button>\n",
              "      \n",
              "  <style>\n",
              "    .colab-df-container {\n",
              "      display:flex;\n",
              "      flex-wrap:wrap;\n",
              "      gap: 12px;\n",
              "    }\n",
              "\n",
              "    .colab-df-convert {\n",
              "      background-color: #E8F0FE;\n",
              "      border: none;\n",
              "      border-radius: 50%;\n",
              "      cursor: pointer;\n",
              "      display: none;\n",
              "      fill: #1967D2;\n",
              "      height: 32px;\n",
              "      padding: 0 0 0 0;\n",
              "      width: 32px;\n",
              "    }\n",
              "\n",
              "    .colab-df-convert:hover {\n",
              "      background-color: #E2EBFA;\n",
              "      box-shadow: 0px 1px 2px rgba(60, 64, 67, 0.3), 0px 1px 3px 1px rgba(60, 64, 67, 0.15);\n",
              "      fill: #174EA6;\n",
              "    }\n",
              "\n",
              "    [theme=dark] .colab-df-convert {\n",
              "      background-color: #3B4455;\n",
              "      fill: #D2E3FC;\n",
              "    }\n",
              "\n",
              "    [theme=dark] .colab-df-convert:hover {\n",
              "      background-color: #434B5C;\n",
              "      box-shadow: 0px 1px 3px 1px rgba(0, 0, 0, 0.15);\n",
              "      filter: drop-shadow(0px 1px 2px rgba(0, 0, 0, 0.3));\n",
              "      fill: #FFFFFF;\n",
              "    }\n",
              "  </style>\n",
              "\n",
              "      <script>\n",
              "        const buttonEl =\n",
              "          document.querySelector('#df-8652a6bd-f23b-429c-94fa-2fe77da34571 button.colab-df-convert');\n",
              "        buttonEl.style.display =\n",
              "          google.colab.kernel.accessAllowed ? 'block' : 'none';\n",
              "\n",
              "        async function convertToInteractive(key) {\n",
              "          const element = document.querySelector('#df-8652a6bd-f23b-429c-94fa-2fe77da34571');\n",
              "          const dataTable =\n",
              "            await google.colab.kernel.invokeFunction('convertToInteractive',\n",
              "                                                     [key], {});\n",
              "          if (!dataTable) return;\n",
              "\n",
              "          const docLinkHtml = 'Like what you see? Visit the ' +\n",
              "            '<a target=\"_blank\" href=https://colab.research.google.com/notebooks/data_table.ipynb>data table notebook</a>'\n",
              "            + ' to learn more about interactive tables.';\n",
              "          element.innerHTML = '';\n",
              "          dataTable['output_type'] = 'display_data';\n",
              "          await google.colab.output.renderOutput(dataTable, element);\n",
              "          const docLink = document.createElement('div');\n",
              "          docLink.innerHTML = docLinkHtml;\n",
              "          element.appendChild(docLink);\n",
              "        }\n",
              "      </script>\n",
              "    </div>\n",
              "  </div>\n",
              "  "
            ]
          },
          "metadata": {},
          "execution_count": 6
        }
      ],
      "source": [
        "df.head(3)"
      ]
    },
    {
      "cell_type": "markdown",
      "metadata": {
        "id": "906822f2-4251-4de7-876d-66bbd810761c"
      },
      "source": [
        "## Take sentences and Label"
      ]
    },
    {
      "cell_type": "code",
      "execution_count": null,
      "metadata": {
        "execution": {
          "iopub.execute_input": "2023-02-27T23:18:20.137652Z",
          "iopub.status.busy": "2023-02-27T23:18:20.137282Z",
          "iopub.status.idle": "2023-02-27T23:18:20.141032Z",
          "shell.execute_reply": "2023-02-27T23:18:20.140536Z",
          "shell.execute_reply.started": "2023-02-27T23:18:20.137627Z"
        },
        "tags": [],
        "id": "7fbc917b-4bdc-4a6c-8193-387d82f283d5"
      },
      "outputs": [],
      "source": [
        "sentences = df['sentences'].values\n",
        "labels = df['sentiment_label'].values"
      ]
    },
    {
      "cell_type": "markdown",
      "metadata": {
        "id": "0377c9d8-6d76-45e0-82f8-165db0c4054e"
      },
      "source": [
        "## Create New Dataset"
      ]
    },
    {
      "cell_type": "code",
      "execution_count": null,
      "metadata": {
        "execution": {
          "iopub.execute_input": "2023-02-27T23:18:35.559979Z",
          "iopub.status.busy": "2023-02-27T23:18:35.559613Z",
          "iopub.status.idle": "2023-02-27T23:18:36.756542Z",
          "shell.execute_reply": "2023-02-27T23:18:36.755988Z",
          "shell.execute_reply.started": "2023-02-27T23:18:35.559955Z"
        },
        "tags": [],
        "id": "841a4028-2abc-42b5-9aae-24697f710169"
      },
      "outputs": [],
      "source": [
        "def convert_to_list(input_string):\n",
        "    return eval(input_string)\n",
        "\n",
        "label = []\n",
        "for lab in labels:\n",
        "  lab = convert_to_list(lab)\n",
        "  for i in range(len(lab)):\n",
        "    label.append(lab[i])\n",
        "\n",
        "sentence = []\n",
        "for sent in sentences:\n",
        "  sent = convert_to_list(sent)\n",
        "  for i in sent:\n",
        "    sentence.append(i)"
      ]
    },
    {
      "cell_type": "markdown",
      "metadata": {
        "id": "902ac075-9cf1-49c3-9705-4696e3fc1219"
      },
      "source": [
        "## Final Dataframe"
      ]
    },
    {
      "cell_type": "code",
      "execution_count": null,
      "metadata": {
        "execution": {
          "iopub.execute_input": "2023-02-27T23:18:52.535040Z",
          "iopub.status.busy": "2023-02-27T23:18:52.534679Z",
          "iopub.status.idle": "2023-02-27T23:18:52.623323Z",
          "shell.execute_reply": "2023-02-27T23:18:52.622768Z",
          "shell.execute_reply.started": "2023-02-27T23:18:52.535016Z"
        },
        "tags": [],
        "id": "5fe5df3e-bee1-48eb-b9b3-064f1a8aaa1b"
      },
      "outputs": [],
      "source": [
        "data = pd.DataFrame()\n",
        "data['sentences'] = sentence\n",
        "data['sentimentlabel'] = label"
      ]
    },
    {
      "cell_type": "markdown",
      "metadata": {
        "id": "e045fcd8-85a4-4df6-a947-1b36bdcb3e7f"
      },
      "source": [
        "## Clean Data"
      ]
    },
    {
      "cell_type": "code",
      "execution_count": null,
      "metadata": {
        "execution": {
          "iopub.execute_input": "2023-03-07T19:36:29.233540Z",
          "iopub.status.busy": "2023-03-07T19:36:29.233161Z",
          "iopub.status.idle": "2023-03-07T19:36:29.246407Z",
          "shell.execute_reply": "2023-03-07T19:36:29.245872Z",
          "shell.execute_reply.started": "2023-03-07T19:36:29.233515Z"
        },
        "tags": [],
        "id": "ce165c5b-8c96-481f-be8a-bcd98bb1d60c"
      },
      "outputs": [],
      "source": [
        "def clean_text(text):\n",
        "    # remove numbers\n",
        "    text = ''.join([i for i in text if not i.isdigit()])\n",
        "    \n",
        "    # remove punctuation\n",
        "    text = text.translate(str.maketrans(\"\", \"\", string.punctuation))\n",
        "    \n",
        "    # tokenize the text\n",
        "    tokens = word_tokenize(text)\n",
        "    \n",
        "    # lowercase the tokens\n",
        "    tokens = [word.lower() for word in tokens]\n",
        "    \n",
        "    # remove stop words\n",
        "    tokens = [word for word in tokens if word not in stop_words]\n",
        "    \n",
        "    # lemmatize the tokens\n",
        "    tokens = [lemmatizer.lemmatize(word) for word in tokens]\n",
        "    \n",
        "    # join the tokens back into a single string\n",
        "    return \" \".join(tokens)"
      ]
    },
    {
      "cell_type": "code",
      "execution_count": null,
      "metadata": {
        "id": "a4609e01-7b12-479c-9672-9338fc5557ba"
      },
      "outputs": [],
      "source": [
        "data['sentence_clean'] = data['sentences'].apply(lambda x: clean_text(x))"
      ]
    },
    {
      "cell_type": "code",
      "source": [
        "data"
      ],
      "metadata": {
        "colab": {
          "base_uri": "https://localhost:8080/",
          "height": 424
        },
        "id": "lT1-BgDkcQW7",
        "outputId": "3862a79a-7d3f-4240-dcb2-8cd086c4275a"
      },
      "execution_count": null,
      "outputs": [
        {
          "output_type": "execute_result",
          "data": {
            "text/plain": [
              "                                                sentences  sentimentlabel  \\\n",
              "0       The one at the Meads's house, where it's bigge...               3   \n",
              "1       Now outside, I'm waiting for my aunt to pick m...               0   \n",
              "2                                              Inside (?)               1   \n",
              "3       I sit with a couple of people, playing with a ...               1   \n",
              "4       I'm at a family reunion in a large fine house ...               3   \n",
              "...                                                   ...             ...   \n",
              "325277                   What would they think of me now?               1   \n",
              "325278                                Would they hate me?               3   \n",
              "325279                                They loved me once.               2   \n",
              "325280  In real life I know this would never have happ...               3   \n",
              "325281              His parents would kill us instead.,,,               1   \n",
              "\n",
              "                                           sentence_clean  \n",
              "0       one mead house bigger inside there european vi...  \n",
              "1       outside im waiting aunt pick arrives little ro...  \n",
              "2                                                  inside  \n",
              "3           sit couple people playing string blue balloon  \n",
              "4       im family reunion large fine house ground mayb...  \n",
              "...                                                   ...  \n",
              "325277                                        would think  \n",
              "325278                                         would hate  \n",
              "325279                                              loved  \n",
              "325280                real life know would never happened  \n",
              "325281                        parent would kill u instead  \n",
              "\n",
              "[325282 rows x 3 columns]"
            ],
            "text/html": [
              "\n",
              "  <div id=\"df-de06ab72-e857-4c16-8bc8-73e35912b94f\">\n",
              "    <div class=\"colab-df-container\">\n",
              "      <div>\n",
              "<style scoped>\n",
              "    .dataframe tbody tr th:only-of-type {\n",
              "        vertical-align: middle;\n",
              "    }\n",
              "\n",
              "    .dataframe tbody tr th {\n",
              "        vertical-align: top;\n",
              "    }\n",
              "\n",
              "    .dataframe thead th {\n",
              "        text-align: right;\n",
              "    }\n",
              "</style>\n",
              "<table border=\"1\" class=\"dataframe\">\n",
              "  <thead>\n",
              "    <tr style=\"text-align: right;\">\n",
              "      <th></th>\n",
              "      <th>sentences</th>\n",
              "      <th>sentimentlabel</th>\n",
              "      <th>sentence_clean</th>\n",
              "    </tr>\n",
              "  </thead>\n",
              "  <tbody>\n",
              "    <tr>\n",
              "      <th>0</th>\n",
              "      <td>The one at the Meads's house, where it's bigge...</td>\n",
              "      <td>3</td>\n",
              "      <td>one mead house bigger inside there european vi...</td>\n",
              "    </tr>\n",
              "    <tr>\n",
              "      <th>1</th>\n",
              "      <td>Now outside, I'm waiting for my aunt to pick m...</td>\n",
              "      <td>0</td>\n",
              "      <td>outside im waiting aunt pick arrives little ro...</td>\n",
              "    </tr>\n",
              "    <tr>\n",
              "      <th>2</th>\n",
              "      <td>Inside (?)</td>\n",
              "      <td>1</td>\n",
              "      <td>inside</td>\n",
              "    </tr>\n",
              "    <tr>\n",
              "      <th>3</th>\n",
              "      <td>I sit with a couple of people, playing with a ...</td>\n",
              "      <td>1</td>\n",
              "      <td>sit couple people playing string blue balloon</td>\n",
              "    </tr>\n",
              "    <tr>\n",
              "      <th>4</th>\n",
              "      <td>I'm at a family reunion in a large fine house ...</td>\n",
              "      <td>3</td>\n",
              "      <td>im family reunion large fine house ground mayb...</td>\n",
              "    </tr>\n",
              "    <tr>\n",
              "      <th>...</th>\n",
              "      <td>...</td>\n",
              "      <td>...</td>\n",
              "      <td>...</td>\n",
              "    </tr>\n",
              "    <tr>\n",
              "      <th>325277</th>\n",
              "      <td>What would they think of me now?</td>\n",
              "      <td>1</td>\n",
              "      <td>would think</td>\n",
              "    </tr>\n",
              "    <tr>\n",
              "      <th>325278</th>\n",
              "      <td>Would they hate me?</td>\n",
              "      <td>3</td>\n",
              "      <td>would hate</td>\n",
              "    </tr>\n",
              "    <tr>\n",
              "      <th>325279</th>\n",
              "      <td>They loved me once.</td>\n",
              "      <td>2</td>\n",
              "      <td>loved</td>\n",
              "    </tr>\n",
              "    <tr>\n",
              "      <th>325280</th>\n",
              "      <td>In real life I know this would never have happ...</td>\n",
              "      <td>3</td>\n",
              "      <td>real life know would never happened</td>\n",
              "    </tr>\n",
              "    <tr>\n",
              "      <th>325281</th>\n",
              "      <td>His parents would kill us instead.,,,</td>\n",
              "      <td>1</td>\n",
              "      <td>parent would kill u instead</td>\n",
              "    </tr>\n",
              "  </tbody>\n",
              "</table>\n",
              "<p>325282 rows × 3 columns</p>\n",
              "</div>\n",
              "      <button class=\"colab-df-convert\" onclick=\"convertToInteractive('df-de06ab72-e857-4c16-8bc8-73e35912b94f')\"\n",
              "              title=\"Convert this dataframe to an interactive table.\"\n",
              "              style=\"display:none;\">\n",
              "        \n",
              "  <svg xmlns=\"http://www.w3.org/2000/svg\" height=\"24px\"viewBox=\"0 0 24 24\"\n",
              "       width=\"24px\">\n",
              "    <path d=\"M0 0h24v24H0V0z\" fill=\"none\"/>\n",
              "    <path d=\"M18.56 5.44l.94 2.06.94-2.06 2.06-.94-2.06-.94-.94-2.06-.94 2.06-2.06.94zm-11 1L8.5 8.5l.94-2.06 2.06-.94-2.06-.94L8.5 2.5l-.94 2.06-2.06.94zm10 10l.94 2.06.94-2.06 2.06-.94-2.06-.94-.94-2.06-.94 2.06-2.06.94z\"/><path d=\"M17.41 7.96l-1.37-1.37c-.4-.4-.92-.59-1.43-.59-.52 0-1.04.2-1.43.59L10.3 9.45l-7.72 7.72c-.78.78-.78 2.05 0 2.83L4 21.41c.39.39.9.59 1.41.59.51 0 1.02-.2 1.41-.59l7.78-7.78 2.81-2.81c.8-.78.8-2.07 0-2.86zM5.41 20L4 18.59l7.72-7.72 1.47 1.35L5.41 20z\"/>\n",
              "  </svg>\n",
              "      </button>\n",
              "      \n",
              "  <style>\n",
              "    .colab-df-container {\n",
              "      display:flex;\n",
              "      flex-wrap:wrap;\n",
              "      gap: 12px;\n",
              "    }\n",
              "\n",
              "    .colab-df-convert {\n",
              "      background-color: #E8F0FE;\n",
              "      border: none;\n",
              "      border-radius: 50%;\n",
              "      cursor: pointer;\n",
              "      display: none;\n",
              "      fill: #1967D2;\n",
              "      height: 32px;\n",
              "      padding: 0 0 0 0;\n",
              "      width: 32px;\n",
              "    }\n",
              "\n",
              "    .colab-df-convert:hover {\n",
              "      background-color: #E2EBFA;\n",
              "      box-shadow: 0px 1px 2px rgba(60, 64, 67, 0.3), 0px 1px 3px 1px rgba(60, 64, 67, 0.15);\n",
              "      fill: #174EA6;\n",
              "    }\n",
              "\n",
              "    [theme=dark] .colab-df-convert {\n",
              "      background-color: #3B4455;\n",
              "      fill: #D2E3FC;\n",
              "    }\n",
              "\n",
              "    [theme=dark] .colab-df-convert:hover {\n",
              "      background-color: #434B5C;\n",
              "      box-shadow: 0px 1px 3px 1px rgba(0, 0, 0, 0.15);\n",
              "      filter: drop-shadow(0px 1px 2px rgba(0, 0, 0, 0.3));\n",
              "      fill: #FFFFFF;\n",
              "    }\n",
              "  </style>\n",
              "\n",
              "      <script>\n",
              "        const buttonEl =\n",
              "          document.querySelector('#df-de06ab72-e857-4c16-8bc8-73e35912b94f button.colab-df-convert');\n",
              "        buttonEl.style.display =\n",
              "          google.colab.kernel.accessAllowed ? 'block' : 'none';\n",
              "\n",
              "        async function convertToInteractive(key) {\n",
              "          const element = document.querySelector('#df-de06ab72-e857-4c16-8bc8-73e35912b94f');\n",
              "          const dataTable =\n",
              "            await google.colab.kernel.invokeFunction('convertToInteractive',\n",
              "                                                     [key], {});\n",
              "          if (!dataTable) return;\n",
              "\n",
              "          const docLinkHtml = 'Like what you see? Visit the ' +\n",
              "            '<a target=\"_blank\" href=https://colab.research.google.com/notebooks/data_table.ipynb>data table notebook</a>'\n",
              "            + ' to learn more about interactive tables.';\n",
              "          element.innerHTML = '';\n",
              "          dataTable['output_type'] = 'display_data';\n",
              "          await google.colab.output.renderOutput(dataTable, element);\n",
              "          const docLink = document.createElement('div');\n",
              "          docLink.innerHTML = docLinkHtml;\n",
              "          element.appendChild(docLink);\n",
              "        }\n",
              "      </script>\n",
              "    </div>\n",
              "  </div>\n",
              "  "
            ]
          },
          "metadata": {},
          "execution_count": 13
        }
      ]
    },
    {
      "cell_type": "markdown",
      "metadata": {
        "id": "460f2cc2-212a-440b-a8f7-3766b9b1b0c0"
      },
      "source": [
        "## Convert Cat to Int"
      ]
    },
    {
      "cell_type": "code",
      "execution_count": null,
      "metadata": {
        "execution": {
          "iopub.execute_input": "2023-02-27T23:22:19.381394Z",
          "iopub.status.busy": "2023-02-27T23:22:19.380876Z",
          "iopub.status.idle": "2023-02-27T23:22:19.444734Z",
          "shell.execute_reply": "2023-02-27T23:22:19.444113Z",
          "shell.execute_reply.started": "2023-02-27T23:22:19.381373Z"
        },
        "tags": [],
        "colab": {
          "base_uri": "https://localhost:8080/"
        },
        "id": "0c3e3e88-026c-43c0-bc90-7461ef37c15f",
        "outputId": "fc5bdc61-4efe-4320-c4c6-626b1c962a75"
      },
      "outputs": [
        {
          "output_type": "execute_result",
          "data": {
            "text/plain": [
              "{'negative': 0,\n",
              " 'neutral': 1,\n",
              " 'positive': 2,\n",
              " 'very negative': 3,\n",
              " 'very positive': 4}"
            ]
          },
          "metadata": {},
          "execution_count": 12
        }
      ],
      "source": [
        "from sklearn.preprocessing import LabelEncoder\n",
        "\n",
        "lb = LabelEncoder() ## Encoder that convert and store all the information\n",
        "data['sentimentlabel'] = lb.fit_transform(data['sentimentlabel'])\n",
        "\n",
        "mapping = dict(zip(lb.classes_, range(len(lb.classes_))))\n",
        "mapping"
      ]
    },
    {
      "cell_type": "markdown",
      "metadata": {
        "id": "AJFw330nfBVm"
      },
      "source": [
        "## Bert"
      ]
    },
    {
      "cell_type": "code",
      "execution_count": null,
      "metadata": {
        "id": "-DqqhZmHYOUF"
      },
      "outputs": [],
      "source": [
        "!pip install transformers"
      ]
    },
    {
      "cell_type": "code",
      "execution_count": null,
      "metadata": {
        "id": "Pd5qb7dC8YAM"
      },
      "outputs": [],
      "source": [
        "!pip install tensorflow_text"
      ]
    },
    {
      "cell_type": "code",
      "execution_count": null,
      "metadata": {
        "id": "UMdgHa5YvQcb"
      },
      "outputs": [],
      "source": [
        "!pip install tokenization"
      ]
    },
    {
      "cell_type": "code",
      "execution_count": null,
      "metadata": {
        "id": "rob5JGg_6m8d"
      },
      "outputs": [],
      "source": [
        "!pip install bert-for-tf2\n",
        "!pip install sentencepiece"
      ]
    },
    {
      "cell_type": "code",
      "execution_count": null,
      "metadata": {
        "id": "gczL4XDTF84i"
      },
      "outputs": [],
      "source": [
        "!pip install pytorch-transformers"
      ]
    },
    {
      "cell_type": "code",
      "execution_count": null,
      "metadata": {
        "id": "KDkmHC5K6q6Q"
      },
      "outputs": [],
      "source": [
        "try:\n",
        "    %tensorflow_version 2.x\n",
        "except Exception as ex:\n",
        "    print(ex)\n",
        "    pass\n",
        "import tensorflow as tf\n",
        "import tensorflow_hub as hub\n",
        "from tensorflow.keras import layers\n",
        "import bert"
      ]
    },
    {
      "cell_type": "code",
      "execution_count": null,
      "metadata": {
        "id": "e5V3pUNQYfF9"
      },
      "outputs": [],
      "source": [
        "import tensorflow as tf\n",
        "import tensorflow_hub as hub\n",
        "from sklearn.model_selection import train_test_split\n",
        "import re\n",
        "import unicodedata\n",
        "from tensorflow import keras\n",
        "from tensorflow.keras.layers import Dense,Dropout, Input\n",
        "from tqdm import tqdm\n",
        "import pickle\n",
        "import matplotlib.pyplot as plt\n",
        "import itertools\n",
        "from sklearn.utils import shuffle\n",
        "from tensorflow.keras import regularizers\n",
        "from transformers import *\n",
        "import bert\n",
        "from transformers import BertTokenizer, TFBertModel, BertConfig,TFDistilBertModel,DistilBertTokenizer,DistilBertConfig"
      ]
    },
    {
      "cell_type": "markdown",
      "metadata": {
        "id": "pCoi-KqWGx7I"
      },
      "source": [
        "##Loading DistilBERT Tokenizer and the DistilBERT model\n"
      ]
    },
    {
      "cell_type": "code",
      "execution_count": null,
      "metadata": {
        "id": "fTR1N18iGymY"
      },
      "outputs": [],
      "source": [
        "dbert_tokenizer = DistilBertTokenizer.from_pretrained('distilbert-base-uncased')"
      ]
    },
    {
      "cell_type": "code",
      "execution_count": null,
      "metadata": {
        "id": "0fL2wSWsG0YZ"
      },
      "outputs": [],
      "source": [
        "dbert_tokenizer = DistilBertTokenizer.from_pretrained('distilbert-base-uncased')\n",
        "dbert_model = TFDistilBertModel.from_pretrained('distilbert-base-uncased')"
      ]
    },
    {
      "cell_type": "markdown",
      "metadata": {
        "id": "zPpOQ9bpG3Uh"
      },
      "source": [
        "## Preparing input for the model\n"
      ]
    },
    {
      "cell_type": "code",
      "execution_count": null,
      "metadata": {
        "id": "fNmpSygbG3K4"
      },
      "outputs": [],
      "source": [
        "max_len=260\n",
        "sentences=data['sentence_clean'] \n",
        "labels=data['sentimentlabel']\n",
        "len(sentences),len(labels)"
      ]
    },
    {
      "cell_type": "markdown",
      "metadata": {
        "id": "O2IaZ3zHHKwq"
      },
      "source": [
        "## Let's take a sentence from the dataset and understand the input and output of the DistilBERT\n"
      ]
    },
    {
      "cell_type": "code",
      "execution_count": null,
      "metadata": {
        "id": "SD2VtncoHI3B"
      },
      "outputs": [],
      "source": [
        "dbert_tokenizer.tokenize(sentences[0])"
      ]
    },
    {
      "cell_type": "markdown",
      "metadata": {
        "id": "xsQF2E3vHNpN"
      },
      "source": [
        "## Input ids and the attention masks from the tokenizer"
      ]
    },
    {
      "cell_type": "code",
      "execution_count": null,
      "metadata": {
        "id": "eY6ONd0nHNiJ"
      },
      "outputs": [],
      "source": [
        "dbert_inp=dbert_tokenizer.encode_plus(sentences[0],add_special_tokens = True,max_length =20,pad_to_max_length = True,truncation=True)\n",
        "dbert_inp"
      ]
    },
    {
      "cell_type": "markdown",
      "metadata": {
        "id": "9SXu4BHgHUag"
      },
      "source": [
        "## NN model using DistilBERT embeddings"
      ]
    },
    {
      "cell_type": "code",
      "execution_count": null,
      "metadata": {
        "id": "iX0_DEkAHdM4"
      },
      "outputs": [],
      "source": [
        "num_classes=len(df.label_text.unique())"
      ]
    },
    {
      "cell_type": "code",
      "execution_count": null,
      "metadata": {
        "id": "LUOk6dSGHXC-"
      },
      "outputs": [],
      "source": [
        "def create_model():\n",
        "    inps = Input(shape = (max_len,), dtype='int64')\n",
        "    masks= Input(shape = (max_len,), dtype='int64')\n",
        "    dbert_layer = dbert_model(inps, attention_mask=masks)[0][:,0,:]\n",
        "    dense = Dense(512,activation='relu',kernel_regularizer=regularizers.l2(0.01))(dbert_layer)\n",
        "    dropout= Dropout(0.5)(dense)\n",
        "    pred = Dense(num_classes, activation='softmax',kernel_regularizer=regularizers.l2(0.01))(dropout)\n",
        "    model = tf.keras.Model(inputs=[inps,masks], outputs=pred)\n",
        "    print(model.summary())\n",
        "    return model   "
      ]
    },
    {
      "cell_type": "code",
      "execution_count": null,
      "metadata": {
        "colab": {
          "base_uri": "https://localhost:8080/"
        },
        "id": "TWeU2W0fHZHI",
        "outputId": "774fd3b4-9920-4c5d-e690-e66f89656e83"
      },
      "outputs": [
        {
          "name": "stdout",
          "output_type": "stream",
          "text": [
            "Model: \"model\"\n",
            "__________________________________________________________________________________________________\n",
            " Layer (type)                   Output Shape         Param #     Connected to                     \n",
            "==================================================================================================\n",
            " input_1 (InputLayer)           [(None, 260)]        0           []                               \n",
            "                                                                                                  \n",
            " input_2 (InputLayer)           [(None, 260)]        0           []                               \n",
            "                                                                                                  \n",
            " tf_distil_bert_model (TFDistil  TFBaseModelOutput(l  66362880   ['input_1[0][0]',                \n",
            " BertModel)                     ast_hidden_state=(N               'input_2[0][0]']                \n",
            "                                one, 260, 768),                                                   \n",
            "                                 hidden_states=None                                               \n",
            "                                , attentions=None)                                                \n",
            "                                                                                                  \n",
            " tf.__operators__.getitem (Slic  (None, 768)         0           ['tf_distil_bert_model[0][0]']   \n",
            " ingOpLambda)                                                                                     \n",
            "                                                                                                  \n",
            " dense (Dense)                  (None, 512)          393728      ['tf.__operators__.getitem[0][0]'\n",
            "                                                                 ]                                \n",
            "                                                                                                  \n",
            " dropout_19 (Dropout)           (None, 512)          0           ['dense[0][0]']                  \n",
            "                                                                                                  \n",
            " dense_1 (Dense)                (None, 2)            1026        ['dropout_19[0][0]']             \n",
            "                                                                                                  \n",
            "==================================================================================================\n",
            "Total params: 66,757,634\n",
            "Trainable params: 66,757,634\n",
            "Non-trainable params: 0\n",
            "__________________________________________________________________________________________________\n",
            "None\n"
          ]
        }
      ],
      "source": [
        "model=create_model()"
      ]
    },
    {
      "cell_type": "markdown",
      "metadata": {
        "id": "71yXlB7DHl5J"
      },
      "source": [
        "## Input Model"
      ]
    },
    {
      "cell_type": "code",
      "source": [
        "input_ids=[]\n",
        "attention_masks=[]\n",
        "\n",
        "for sent in df['text']:\n",
        "    dbert_inps=dbert_tokenizer.encode_plus(sent,add_special_tokens = True,max_length =max_len,pad_to_max_length = True,return_attention_mask = True,truncation=True)\n",
        "    input_ids.append(dbert_inps['input_ids'])\n",
        "    attention_masks.append(dbert_inps['attention_mask'])\n",
        "\n",
        "input_ids=np.asarray(input_ids)\n",
        "attention_masks=np.array(attention_masks)\n",
        "labels=np.array(labels)"
      ],
      "metadata": {
        "id": "gNntrbaTs22U"
      },
      "execution_count": null,
      "outputs": []
    },
    {
      "cell_type": "markdown",
      "source": [],
      "metadata": {
        "id": "EJCmIOVcs2uz"
      }
    },
    {
      "cell_type": "code",
      "execution_count": null,
      "metadata": {
        "colab": {
          "base_uri": "https://localhost:8080/"
        },
        "id": "K_OvrSriHnYP",
        "outputId": "f3498fbf-9f29-4d53-f87e-652a0f6b51c1"
      },
      "outputs": [
        {
          "name": "stderr",
          "output_type": "stream",
          "text": [
            "/usr/local/lib/python3.7/dist-packages/transformers/tokenization_utils_base.py:2307: FutureWarning: The `pad_to_max_length` argument is deprecated and will be removed in a future version, use `padding=True` or `padding='longest'` to pad to the longest sequence in the batch, or use `padding='max_length'` to pad to a max length. In this case, you can give a specific length with `max_length` (e.g. `max_length=45`) or leave max_length to None to pad to the maximal input size of the model (e.g. 512 for Bert).\n",
            "  FutureWarning,\n"
          ]
        }
      ],
      "source": [
        "input_ids=[]\n",
        "attention_masks=[]\n",
        "\n",
        "for sent in sentences:\n",
        "    dbert_inps=dbert_tokenizer.encode_plus(sent,add_special_tokens = True,max_length =max_len,pad_to_max_length = True,return_attention_mask = True,truncation=True)\n",
        "    input_ids.append(dbert_inps['input_ids'])\n",
        "    attention_masks.append(dbert_inps['attention_mask'])\n",
        "\n",
        "input_ids=np.asarray(input_ids)\n",
        "attention_masks=np.array(attention_masks)\n",
        "labels=np.array(labels)"
      ]
    },
    {
      "cell_type": "code",
      "execution_count": null,
      "metadata": {
        "colab": {
          "base_uri": "https://localhost:8080/"
        },
        "id": "nlQI5l_VHyQy",
        "outputId": "63f022c0-36be-4440-c99b-158f35bc37c1"
      },
      "outputs": [
        {
          "data": {
            "text/plain": [
              "(65929, 65929, 65929)"
            ]
          },
          "execution_count": 20,
          "metadata": {},
          "output_type": "execute_result"
        }
      ],
      "source": [
        "len(input_ids),len(attention_masks),len(labels)"
      ]
    },
    {
      "cell_type": "markdown",
      "metadata": {
        "id": "dAaPt9usH1wx"
      },
      "source": [
        "## Save the model input in the pickle files to use it later without performing the above steps"
      ]
    },
    {
      "cell_type": "code",
      "execution_count": null,
      "metadata": {
        "colab": {
          "base_uri": "https://localhost:8080/"
        },
        "id": "WG6w0LqwH0jP",
        "outputId": "03b1b9ad-feba-469d-cac6-bae4403b342d"
      },
      "outputs": [
        {
          "name": "stdout",
          "output_type": "stream",
          "text": [
            "Preparing the pickle file.....\n",
            "Pickle files saved as  ./dbert_inp.pkl ./dbert_mask.pkl ./dbert_label.pkl\n"
          ]
        }
      ],
      "source": [
        "print('Preparing the pickle file.....')\n",
        "\n",
        "pickle_inp_path='./dbert_inp.pkl'\n",
        "pickle_mask_path='./dbert_mask.pkl'\n",
        "pickle_label_path='./dbert_label.pkl'\n",
        "\n",
        "pickle.dump((input_ids),open(pickle_inp_path,'wb'))\n",
        "pickle.dump((attention_masks),open(pickle_mask_path,'wb'))\n",
        "pickle.dump((labels),open(pickle_label_path,'wb'))\n",
        "\n",
        "\n",
        "print('Pickle files saved as ',pickle_inp_path,pickle_mask_path,pickle_label_path)"
      ]
    },
    {
      "cell_type": "code",
      "execution_count": null,
      "metadata": {
        "colab": {
          "base_uri": "https://localhost:8080/"
        },
        "id": "4jfVyBX8H7MI",
        "outputId": "1e125ded-7437-49ab-91dc-f29a4597ede2"
      },
      "outputs": [
        {
          "name": "stdout",
          "output_type": "stream",
          "text": [
            "Loading the saved pickle files..\n",
            "Input shape (65929, 260) Attention mask shape (65929, 260) Input label shape (65929,)\n"
          ]
        }
      ],
      "source": [
        "print('Loading the saved pickle files..')\n",
        "\n",
        "input_ids=pickle.load(open(pickle_inp_path, 'rb'))\n",
        "attention_masks=pickle.load(open(pickle_mask_path, 'rb'))\n",
        "labels=pickle.load(open(pickle_label_path, 'rb'))\n",
        "\n",
        "print('Input shape {} Attention mask shape {} Input label shape {}'.format(input_ids.shape,attention_masks.shape,labels.shape))"
      ]
    },
    {
      "cell_type": "markdown",
      "metadata": {
        "id": "3ED3iVi7H-pQ"
      },
      "source": [
        "## label"
      ]
    },
    {
      "cell_type": "code",
      "execution_count": null,
      "metadata": {
        "id": "I0oyG_2vH_1q"
      },
      "outputs": [],
      "source": [
        "label_class_dict={0:'Not Related to HIV',1:'Related to HIV'}\n",
        "target_names=label_class_dict.values()"
      ]
    },
    {
      "cell_type": "markdown",
      "metadata": {
        "id": "8eceAqVgIFUA"
      },
      "source": [
        "## Compile Model"
      ]
    },
    {
      "cell_type": "code",
      "execution_count": null,
      "metadata": {
        "colab": {
          "base_uri": "https://localhost:8080/"
        },
        "id": "0TxFJiChIGzw",
        "outputId": "4e9dd454-6b18-47f9-80fd-af36ec4dc3a5"
      },
      "outputs": [
        {
          "name": "stdout",
          "output_type": "stream",
          "text": [
            "Train inp shape (52743, 260) Val input shape (13186, 260)\n",
            "Train label shape (52743,) Val label shape (13186,)\n",
            "Train attention mask shape (52743, 260) Val attention mask shape (13186, 260)\n"
          ]
        }
      ],
      "source": [
        "train_inp,val_inp,train_label,val_label,train_mask,val_mask=train_test_split(input_ids,labels,attention_masks,test_size=0.2)\n",
        "\n",
        "print('Train inp shape {} Val input shape {}\\nTrain label shape {} Val label shape {}\\nTrain attention mask shape {} Val attention mask shape {}'.format(train_inp.shape,val_inp.shape,train_label.shape,val_label.shape,train_mask.shape,val_mask.shape))\n",
        "\n",
        "\n",
        "log_dir='dbert_model'\n",
        "model_save_path='./dbert_model.h5'\n",
        "\n",
        "callbacks = [tf.keras.callbacks.ModelCheckpoint(filepath=model_save_path,save_weights_only=True,monitor='val_loss',mode='min',save_best_only=True),keras.callbacks.TensorBoard(log_dir=log_dir)]\n",
        "\n",
        "loss = tf.keras.losses.SparseCategoricalCrossentropy(from_logits=True)\n",
        "metric = tf.keras.metrics.SparseCategoricalAccuracy('accuracy')\n",
        "optimizer = tf.keras.optimizers.Adam(learning_rate=3e-5)\n",
        "\n",
        "model.compile(loss=loss,optimizer=optimizer, metrics=[metric])"
      ]
    },
    {
      "cell_type": "code",
      "execution_count": null,
      "metadata": {
        "id": "9q1j9gBwIKx3"
      },
      "outputs": [],
      "source": [
        "callbacks= [tf.keras.callbacks.ModelCheckpoint(filepath=model_save_path,save_weights_only=True,monitor='val_loss',mode='min',save_best_only=True),keras.callbacks.TensorBoard(log_dir=log_dir)]\n",
        "model.compile(loss=loss,optimizer=optimizer, metrics=[metric])"
      ]
    },
    {
      "cell_type": "markdown",
      "metadata": {
        "id": "724CPMlGIODn"
      },
      "source": [
        "## Train Model"
      ]
    },
    {
      "cell_type": "code",
      "execution_count": null,
      "metadata": {
        "colab": {
          "background_save": true
        },
        "id": "dmQL1KOXIPcX"
      },
      "outputs": [],
      "source": [
        "history=model.fit([train_inp,train_mask],train_label,batch_size=16,epochs=5,validation_data=([val_inp,val_mask],val_label),callbacks=callbacks)"
      ]
    },
    {
      "cell_type": "code",
      "execution_count": null,
      "metadata": {
        "colab": {
          "background_save": true
        },
        "id": "TFB_baWHV31B"
      },
      "outputs": [],
      "source": [
        "trained_model = create_model()\n",
        "trained_model.compile(loss=loss,optimizer=optimizer, metrics=[metric])\n",
        "trained_model.load_weights(model_save_path)"
      ]
    },
    {
      "cell_type": "code",
      "execution_count": null,
      "metadata": {
        "id": "1FAfBBUDVwU3"
      },
      "outputs": [],
      "source": [
        "preds = trained_model.predict([val_inp,val_mask],batch_size=16)\n",
        "pred_labels = preds.argmax(axis=1)"
      ]
    },
    {
      "cell_type": "code",
      "execution_count": null,
      "metadata": {
        "colab": {
          "background_save": true
        },
        "id": "5Esh1ZEaXyUl"
      },
      "outputs": [],
      "source": [
        "# Creating the confusion matrix:\n",
        "e_cm = confusion_matrix(val_label, pred_labels)\n",
        "# Visualization:\n",
        "f, ax = plt.subplots(figsize=(8,8))\n",
        "sns.heatmap(e_cm, annot=True, linewidth=0.7, linecolor='blue', fmt='.0f', ax=ax, cmap='Blues')\n",
        "plt.title('Bert Classification Confusion Matrix TFIDF')\n",
        "plt.xlabel('y_pred')\n",
        "plt.ylabel('y_test')\n",
        "plt.show()"
      ]
    },
    {
      "cell_type": "code",
      "execution_count": null,
      "metadata": {
        "id": "o1wLfskJV6-B"
      },
      "outputs": [],
      "source": [
        "print(classification_report(val_label, pred_labels))"
      ]
    }
  ]
}